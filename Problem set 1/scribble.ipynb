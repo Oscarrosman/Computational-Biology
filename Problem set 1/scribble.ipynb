{
 "cells": [
  {
   "cell_type": "code",
   "execution_count": null,
   "metadata": {},
   "outputs": [],
   "source": [
    "def ClassifyOscillation(n):\n",
    "    peaks, _ = find_peaks(n)\n",
    "    values = [n[i] for i in peaks]\n",
    "\n",
    "    for i, v in enumerate(values):\n",
    "        if i > 0:\n",
    "            if v > values[i-1]:\n",
    "                print('Amplified oscillation')\n",
    "                break\n",
    "            elif v < values[i-1]:\n",
    "                print('Dampened oscillation')\n",
    "                break\n",
    "            else:\n",
    "                print('Oscillation')\n",
    "                break"
   ]
  }
 ],
 "metadata": {
  "language_info": {
   "name": "python"
  }
 },
 "nbformat": 4,
 "nbformat_minor": 2
}
